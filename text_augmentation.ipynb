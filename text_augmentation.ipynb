{
 "cells": [
  {
   "cell_type": "markdown",
   "metadata": {},
   "source": [
    "# Text Augmentation via Google Translation API"
   ]
  },
  {
   "cell_type": "markdown",
   "metadata": {},
   "source": [
    "## Preparation"
   ]
  },
  {
   "cell_type": "code",
   "execution_count": null,
   "metadata": {},
   "outputs": [],
   "source": [
    "import os  \n",
    "from google.cloud import  translate"
   ]
  },
  {
   "cell_type": "code",
   "execution_count": null,
   "metadata": {},
   "outputs": [],
   "source": [
    "# You need to add environment variable if you use Translation API on local machine.\n",
    "os.environ[\"GOOGLE_APPLICATION_CREDENTIALS\"] = \"path/to/json_file\"\n",
    "client = translate.Client()"
   ]
  },
  {
   "cell_type": "markdown",
   "metadata": {},
   "source": [
    "### Checking of translation"
   ]
  },
  {
   "cell_type": "code",
   "execution_count": null,
   "metadata": {},
   "outputs": [],
   "source": [
    "text = u'Hello, world!'\n",
    "trans_from = 'en'\n",
    "trans_to = 'ja'\n",
    "translated_dict = client.translate(text, source_language=trans_from, target_language=trans_to, model='nmt')"
   ]
  },
  {
   "cell_type": "code",
   "execution_count": null,
   "metadata": {},
   "outputs": [],
   "source": [
    "translated_dict['translatedText']"
   ]
  },
  {
   "cell_type": "markdown",
   "metadata": {},
   "source": [
    "## Text Augmentor"
   ]
  },
  {
   "cell_type": "code",
   "execution_count": null,
   "metadata": {},
   "outputs": [],
   "source": [
    "import time\n",
    "import sys\n",
    "\n",
    "def text_augmentor(text_series, src_dst_lang, mid_lang, up_limit_per_100s=100000):\n",
    "    \"\"\"\n",
    "    src_lang series -> mid_lang series -> dst_lang series\n",
    "    \n",
    "    up_limit_per_100s: upper limit of translation requests per 100s\n",
    "    (Ref: https://cloud.google.com/translate/quotas)\n",
    "    \"\"\"\n",
    "    up_limit_per_char = 100 / up_limit_per_100s\n",
    "    failed_idx_list = []\n",
    "    translated_list = []\n",
    "    for idx, text in enumerate(text_series):\n",
    "        strat_time = time.time()\n",
    "        char_len = 0\n",
    "        try:\n",
    "            # check characters length\n",
    "            char_len += len(text)\n",
    "            # 1st translation\n",
    "            mid_translated_text = client.translate(text, \n",
    "                                                   source_language=src_dst_lang, \n",
    "                                                   target_language=mid_lang, \n",
    "                                                   model='nmt')['translatedText']\n",
    "            first_time = time.time()\n",
    "            first_elapsed_time = first_time - strat_time\n",
    "            trans_time_per_char =  first_elapsed_time / char_len\n",
    "            # Avoiding upper limit of requests\n",
    "            if trans_time_per_char < up_limit_per_char:\n",
    "                margine = 5\n",
    "                #　翻訳char数＋基準超過chara数に従って，sleep timeを決定する．\n",
    "                sleep_time = (up_limit_per_char + trans_time_per_char) * (char_len + margine)\n",
    "                time.sleep(sleep_time)\n",
    "                char_len = 0\n",
    "            else:\n",
    "                time.sleep(up_limit_per_char*char_len)\n",
    "                \n",
    "            # 2nd translation (retranslation to dst language) \n",
    "            char_len += len(mid_translated_text)\n",
    "            translated_text = client.translate(mid_translated_text, \n",
    "                                               source_language=mid_lang, \n",
    "                                               target_language=src_dst_lang, \n",
    "                                               model='nmt')['translatedText']\n",
    "            translated_list.append(translated_text)\n",
    "            second_elapsed_time = time.time() - first_time\n",
    "            trans_time_per_char =  second_elapsed_time / char_len\n",
    "            if trans_time_per_char < up_limit_per_char:\n",
    "                margine = 5\n",
    "                sleep_time = (up_limit_per_char + trans_time_per_char) * (char_len + margine)\n",
    "                time.sleep(sleep_time)\n",
    "                char_len = 0\n",
    "            else:\n",
    "                time.sleep(up_limit_per_char*char_len)\n",
    "                \n",
    "        except :\n",
    "            # If translation is failed, you get current index\n",
    "            failed_idx_list.append(idx)\n",
    "\n",
    "        sys.stdout.write(\"\\r {:d} of {:d} finished\".format(idx+1, len(text_series)))\n",
    "        #sys.stdout.write(\"\\r mid: {:s}, final: {:s}\".format(mid_translated_text, translated_text))\n",
    "        sys.stdout.flush()\n",
    "        \n",
    "    translated_df = pd.DataFrame(translated_list, columns=[\"translated_mid_\"+mid_lang])\n",
    "\n",
    "    return translated_df[\"translated_mid_\"+mid_lang], failed_idx_list"
   ]
  }
 ],
 "metadata": {
  "kernelspec": {
   "display_name": "Python 3",
   "language": "python",
   "name": "python3"
  },
  "language_info": {
   "codemirror_mode": {
    "name": "ipython",
    "version": 3
   },
   "file_extension": ".py",
   "mimetype": "text/x-python",
   "name": "python",
   "nbconvert_exporter": "python",
   "pygments_lexer": "ipython3",
   "version": "3.6.5"
  }
 },
 "nbformat": 4,
 "nbformat_minor": 2
}
